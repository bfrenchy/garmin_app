{
 "cells": [
  {
   "cell_type": "code",
   "execution_count": 1,
   "metadata": {},
   "outputs": [],
   "source": [
    "import pandas as pd"
   ]
  },
  {
   "cell_type": "code",
   "execution_count": 2,
   "metadata": {},
   "outputs": [
    {
     "data": {
      "text/html": [
       "<div>\n",
       "<style scoped>\n",
       "    .dataframe tbody tr th:only-of-type {\n",
       "        vertical-align: middle;\n",
       "    }\n",
       "\n",
       "    .dataframe tbody tr th {\n",
       "        vertical-align: top;\n",
       "    }\n",
       "\n",
       "    .dataframe thead th {\n",
       "        text-align: right;\n",
       "    }\n",
       "</style>\n",
       "<table border=\"1\" class=\"dataframe\">\n",
       "  <thead>\n",
       "    <tr style=\"text-align: right;\">\n",
       "      <th></th>\n",
       "      <th>product_name</th>\n",
       "      <th>product_url</th>\n",
       "      <th>product_id</th>\n",
       "      <th>product_category</th>\n",
       "      <th>product_subcategory</th>\n",
       "      <th>part_number</th>\n",
       "      <th>product_manual_url</th>\n",
       "      <th>file_name</th>\n",
       "    </tr>\n",
       "  </thead>\n",
       "  <tbody>\n",
       "    <tr>\n",
       "      <th>0</th>\n",
       "      <td>Forerunner 965</td>\n",
       "      <td>https://www.garmin.com/en-US/p/886725</td>\n",
       "      <td>886725</td>\n",
       "      <td>Sports &amp; Fitness</td>\n",
       "      <td>Running</td>\n",
       "      <td>010-02809-00</td>\n",
       "      <td>https://support.garmin.com/en-US/?partNumber=0...</td>\n",
       "      <td>Forerunner_965_OM_EN-US.pdf</td>\n",
       "    </tr>\n",
       "    <tr>\n",
       "      <th>1</th>\n",
       "      <td>Bounce</td>\n",
       "      <td>https://www.garmin.com/en-US/p/714945</td>\n",
       "      <td>714945</td>\n",
       "      <td>Sports &amp; Fitness</td>\n",
       "      <td>Just for Kids</td>\n",
       "      <td>010-02448-02</td>\n",
       "      <td>https://support.garmin.com/en-US/?partNumber=0...</td>\n",
       "      <td>Bounce_OM_EN-US.pdf</td>\n",
       "    </tr>\n",
       "    <tr>\n",
       "      <th>2</th>\n",
       "      <td>MARQ Adventurer (Gen 2)</td>\n",
       "      <td>https://www.garmin.com/en-US/p/783467</td>\n",
       "      <td>783467</td>\n",
       "      <td>Sports &amp; Fitness</td>\n",
       "      <td>Luxury Smartwatches</td>\n",
       "      <td>010-02648-30</td>\n",
       "      <td>https://support.garmin.com/en-US/?partNumber=0...</td>\n",
       "      <td>MARQ_Adventurer_(Gen_2)_OM_EN-US.pdf</td>\n",
       "    </tr>\n",
       "    <tr>\n",
       "      <th>3</th>\n",
       "      <td>Instinct Crossover - Standard Edition</td>\n",
       "      <td>https://www.garmin.com/en-US/p/819761</td>\n",
       "      <td>819761</td>\n",
       "      <td>Outdoor Recreation</td>\n",
       "      <td>Adventure Watches</td>\n",
       "      <td>010-02730-13</td>\n",
       "      <td>https://support.garmin.com/en-US/?partNumber=0...</td>\n",
       "      <td>Instinct_Crossover_-_Standard_Edition_OM_EN-US...</td>\n",
       "    </tr>\n",
       "    <tr>\n",
       "      <th>4</th>\n",
       "      <td>vivomove Trend</td>\n",
       "      <td>https://www.garmin.com/en-US/p/785411</td>\n",
       "      <td>785411</td>\n",
       "      <td>Sports &amp; Fitness</td>\n",
       "      <td>Fitness Tracking</td>\n",
       "      <td>010-02665-02</td>\n",
       "      <td>https://support.garmin.com/en-US/?partNumber=0...</td>\n",
       "      <td>vivomove_Trend_OM_EN-US.pdf</td>\n",
       "    </tr>\n",
       "  </tbody>\n",
       "</table>\n",
       "</div>"
      ],
      "text/plain": [
       "                            product_name  \\\n",
       "0                         Forerunner 965   \n",
       "1                                 Bounce   \n",
       "2                MARQ Adventurer (Gen 2)   \n",
       "3  Instinct Crossover - Standard Edition   \n",
       "4                         vivomove Trend   \n",
       "\n",
       "                             product_url  product_id    product_category  \\\n",
       "0  https://www.garmin.com/en-US/p/886725      886725    Sports & Fitness   \n",
       "1  https://www.garmin.com/en-US/p/714945      714945    Sports & Fitness   \n",
       "2  https://www.garmin.com/en-US/p/783467      783467    Sports & Fitness   \n",
       "3  https://www.garmin.com/en-US/p/819761      819761  Outdoor Recreation   \n",
       "4  https://www.garmin.com/en-US/p/785411      785411    Sports & Fitness   \n",
       "\n",
       "   product_subcategory   part_number  \\\n",
       "0              Running  010-02809-00   \n",
       "1        Just for Kids  010-02448-02   \n",
       "2  Luxury Smartwatches  010-02648-30   \n",
       "3    Adventure Watches  010-02730-13   \n",
       "4     Fitness Tracking  010-02665-02   \n",
       "\n",
       "                                  product_manual_url  \\\n",
       "0  https://support.garmin.com/en-US/?partNumber=0...   \n",
       "1  https://support.garmin.com/en-US/?partNumber=0...   \n",
       "2  https://support.garmin.com/en-US/?partNumber=0...   \n",
       "3  https://support.garmin.com/en-US/?partNumber=0...   \n",
       "4  https://support.garmin.com/en-US/?partNumber=0...   \n",
       "\n",
       "                                           file_name  \n",
       "0                        Forerunner_965_OM_EN-US.pdf  \n",
       "1                                Bounce_OM_EN-US.pdf  \n",
       "2               MARQ_Adventurer_(Gen_2)_OM_EN-US.pdf  \n",
       "3  Instinct_Crossover_-_Standard_Edition_OM_EN-US...  \n",
       "4                        vivomove_Trend_OM_EN-US.pdf  "
      ]
     },
     "execution_count": 2,
     "metadata": {},
     "output_type": "execute_result"
    }
   ],
   "source": [
    "df = pd.read_csv('../data/current_wearables.csv')\n",
    "df.head()"
   ]
  },
  {
   "cell_type": "code",
   "execution_count": 10,
   "metadata": {},
   "outputs": [
    {
     "data": {
      "text/plain": [
       "'https://www.garmin.com/en-US/p/714945'"
      ]
     },
     "execution_count": 10,
     "metadata": {},
     "output_type": "execute_result"
    }
   ],
   "source": [
    "option = 'Bounce'\n",
    "temp = df[df['product_name'] == option]\n",
    "temp['product_url'].values[0]"
   ]
  },
  {
   "cell_type": "code",
   "execution_count": 11,
   "metadata": {},
   "outputs": [
    {
     "data": {
      "text/html": [
       "<div>\n",
       "<style scoped>\n",
       "    .dataframe tbody tr th:only-of-type {\n",
       "        vertical-align: middle;\n",
       "    }\n",
       "\n",
       "    .dataframe tbody tr th {\n",
       "        vertical-align: top;\n",
       "    }\n",
       "\n",
       "    .dataframe thead th {\n",
       "        text-align: right;\n",
       "    }\n",
       "</style>\n",
       "<table border=\"1\" class=\"dataframe\">\n",
       "  <thead>\n",
       "    <tr style=\"text-align: right;\">\n",
       "      <th></th>\n",
       "      <th>product_name</th>\n",
       "      <th>product_url</th>\n",
       "      <th>product_id</th>\n",
       "      <th>product_category</th>\n",
       "      <th>product_subcategory</th>\n",
       "      <th>part_number</th>\n",
       "      <th>product_manual_url</th>\n",
       "      <th>file_name</th>\n",
       "    </tr>\n",
       "  </thead>\n",
       "  <tbody>\n",
       "    <tr>\n",
       "      <th>1</th>\n",
       "      <td>Bounce</td>\n",
       "      <td>https://www.garmin.com/en-US/p/714945</td>\n",
       "      <td>714945</td>\n",
       "      <td>Sports &amp; Fitness</td>\n",
       "      <td>Just for Kids</td>\n",
       "      <td>010-02448-02</td>\n",
       "      <td>https://support.garmin.com/en-US/?partNumber=0...</td>\n",
       "      <td>Bounce_OM_EN-US.pdf</td>\n",
       "    </tr>\n",
       "  </tbody>\n",
       "</table>\n",
       "</div>"
      ],
      "text/plain": [
       "  product_name                            product_url  product_id  \\\n",
       "1       Bounce  https://www.garmin.com/en-US/p/714945      714945   \n",
       "\n",
       "   product_category product_subcategory   part_number  \\\n",
       "1  Sports & Fitness       Just for Kids  010-02448-02   \n",
       "\n",
       "                                  product_manual_url            file_name  \n",
       "1  https://support.garmin.com/en-US/?partNumber=0...  Bounce_OM_EN-US.pdf  "
      ]
     },
     "execution_count": 11,
     "metadata": {},
     "output_type": "execute_result"
    }
   ],
   "source": [
    "temp"
   ]
  },
  {
   "cell_type": "code",
   "execution_count": null,
   "metadata": {},
   "outputs": [],
   "source": []
  }
 ],
 "metadata": {
  "kernelspec": {
   "display_name": "venv",
   "language": "python",
   "name": "python3"
  },
  "language_info": {
   "codemirror_mode": {
    "name": "ipython",
    "version": 3
   },
   "file_extension": ".py",
   "mimetype": "text/x-python",
   "name": "python",
   "nbconvert_exporter": "python",
   "pygments_lexer": "ipython3",
   "version": "3.11.5"
  },
  "orig_nbformat": 4
 },
 "nbformat": 4,
 "nbformat_minor": 2
}
