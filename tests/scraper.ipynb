{
 "cells": [
  {
   "cell_type": "code",
   "execution_count": 187,
   "metadata": {},
   "outputs": [],
   "source": [
    "# !pip3 install beautifulsoup4"
   ]
  },
  {
   "cell_type": "code",
   "execution_count": 188,
   "metadata": {},
   "outputs": [],
   "source": [
    "# !pip3 install requests"
   ]
  },
  {
   "cell_type": "code",
   "execution_count": 189,
   "metadata": {},
   "outputs": [],
   "source": [
    "# !pip3 install pandas"
   ]
  },
  {
   "cell_type": "code",
   "execution_count": 190,
   "metadata": {},
   "outputs": [],
   "source": [
    "# !pip3 install selenium"
   ]
  },
  {
   "cell_type": "code",
   "execution_count": 229,
   "metadata": {},
   "outputs": [],
   "source": [
    "# from selenium import webdriver\n",
    "# from selenium.webdriver.common.by import By\n",
    "\n",
    "# driver = webdriver.Chrome()\n",
    "# for url in df['product_manual_url']:\n",
    "#     driver.get(url)\n",
    "#     driver.switch_to.new_window()"
   ]
  },
  {
   "cell_type": "code",
   "execution_count": 230,
   "metadata": {},
   "outputs": [],
   "source": [
    "# driver.quit()"
   ]
  },
  {
   "cell_type": "code",
   "execution_count": 167,
   "metadata": {},
   "outputs": [],
   "source": [
    "import os\n",
    "import requests\n",
    "from bs4 import BeautifulSoup\n",
    "import re\n",
    "import pandas as pd"
   ]
  },
  {
   "cell_type": "code",
   "execution_count": 168,
   "metadata": {},
   "outputs": [
    {
     "name": "stdout",
     "output_type": "stream",
     "text": [
      "https://www.garmin.com/en-US/p/{product_id}\n",
      "\n",
      "['886725', '714945', '783467', '819761', '785411', '662790', '719696', '775697', '854515', '730659', '741137', '777730', '780139', '873214', '1057989', '894067', '866191', '886689', '641121', '847706', '818387', '782585', '713363', '582444', '698632', '643382', '646690', '1297277', '711488', '766565', '869433', '798926', '647267', '743387', '665374', '701618', '721216', '707225']\n"
     ]
    }
   ],
   "source": [
    "with open('product_ids.txt','r') as file:\n",
    "    lines = file.readlines()\n",
    "    url_pattern = lines[1]\n",
    "    current_wearables = lines[2]\n",
    "    product_ids = current_wearables.split(',')\n",
    "\n",
    "print(url_pattern)\n",
    "print(product_ids)"
   ]
  },
  {
   "cell_type": "code",
   "execution_count": 169,
   "metadata": {},
   "outputs": [
    {
     "name": "stdout",
     "output_type": "stream",
     "text": [
      "https://www.garmin.com/en-US/c/wearables-smartwatches/\n",
      "https://www.garmin.com/en-US/c/women-wearables/?FILTER_FEATURE_FORWOMEN=true\n",
      "https://www.garmin.com/en-US/c/sports-fitness/fashion-hybrid-smartwatches/\n"
     ]
    }
   ],
   "source": [
    "url = 'https://www.garmin.com/en-US/siteindex/'\n",
    "response = requests.get(url)\n",
    "sitemap_links = []\n",
    "\n",
    "soup = BeautifulSoup(response.content, 'html.parser')\n",
    "for link in soup.find_all('a'):\n",
    "    href = link.get('href')\n",
    "    if '/c/' in href:\n",
    "        sitemap_links.append(href)\n",
    "\n",
    "for link in sitemap_links[:3]:\n",
    "    print(link)"
   ]
  },
  {
   "cell_type": "code",
   "execution_count": 165,
   "metadata": {},
   "outputs": [],
   "source": [
    "def get_product_info(product_id):\n",
    "    url = f'https://www.garmin.com/en-US/p/{product_id}'\n",
    "    response = requests.get(url)\n",
    "    soup = BeautifulSoup(response.content, 'html.parser')\n",
    "\n",
    "    scripts = soup.find_all('script')\n",
    "    for script in scripts:\n",
    "        if 'tagManagement_product_id' in script.text:\n",
    "            product_category = re.search(r'var tagManagement_pageCategory = \"(.*?)\";', script.text).group(1)\n",
    "            product_subcategory = re.search(r'var tagManagement_categoryName = \"(.*?)\";', script.text).group(1)\n",
    "            product_name = re.search(r'var tagManagement_productName = \"(.*?)\";', script.text).group(1)\n",
    "            product_id = re.search(r'var tagManagement_product_id = \"(.*?)\";', script.text).group(1)\n",
    "            product_sku = re.search(r'var tagManagement_skuCode = \"(.*?)\";', script.text).group(1)\n",
    "        \n",
    "            product_dict = {\n",
    "                'product_url': url,\n",
    "                'product_id': product_id,\n",
    "                'product_name': product_name,\n",
    "                'product_category': product_category,\n",
    "                'product_subcategory': product_subcategory,\n",
    "                'part_number': product_sku,\n",
    "                'product_manual_url': f'https://support.garmin.com/en-US/?partNumber={product_sku}&tab=manuals'\n",
    "            }\n",
    "\n",
    "            return product_dict\n",
    "        else:\n",
    "            continue"
   ]
  },
  {
   "cell_type": "code",
   "execution_count": 170,
   "metadata": {},
   "outputs": [
    {
     "data": {
      "text/plain": [
       "{'product_url': 'https://www.garmin.com/en-US/p/886725',\n",
       " 'product_id': '886725',\n",
       " 'product_name': 'Forerunner 965',\n",
       " 'product_category': 'Sports & Fitness',\n",
       " 'product_subcategory': 'Running',\n",
       " 'part_number': '010-02809-00',\n",
       " 'product_manual_url': 'https://support.garmin.com/en-US/?partNumber=010-02809-00&tab=manuals'}"
      ]
     },
     "execution_count": 170,
     "metadata": {},
     "output_type": "execute_result"
    }
   ],
   "source": [
    "get_product_info(product_ids[0])"
   ]
  },
  {
   "cell_type": "code",
   "execution_count": 172,
   "metadata": {},
   "outputs": [],
   "source": [
    "product_info_list = []\n",
    "df = pd.DataFrame(columns=['product_url','product_id','product_name',\n",
    "                           'product_category','product_subcategory',\n",
    "                           'part_number','product_manual_url'])\n",
    "for id in product_ids:\n",
    "    product_info = get_product_info(id)\n",
    "    temp = pd.DataFrame(product_info, index=[0])\n",
    "    df = pd.concat([df, temp], ignore_index=True)\n",
    "    product_info_list.append(product_info)\n"
   ]
  },
  {
   "cell_type": "code",
   "execution_count": 177,
   "metadata": {},
   "outputs": [
    {
     "data": {
      "text/html": [
       "<div>\n",
       "<style scoped>\n",
       "    .dataframe tbody tr th:only-of-type {\n",
       "        vertical-align: middle;\n",
       "    }\n",
       "\n",
       "    .dataframe tbody tr th {\n",
       "        vertical-align: top;\n",
       "    }\n",
       "\n",
       "    .dataframe thead th {\n",
       "        text-align: right;\n",
       "    }\n",
       "</style>\n",
       "<table border=\"1\" class=\"dataframe\">\n",
       "  <thead>\n",
       "    <tr style=\"text-align: right;\">\n",
       "      <th></th>\n",
       "      <th>product_url</th>\n",
       "      <th>product_id</th>\n",
       "      <th>product_name</th>\n",
       "      <th>product_category</th>\n",
       "      <th>product_subcategory</th>\n",
       "      <th>part_number</th>\n",
       "      <th>product_manual_url</th>\n",
       "    </tr>\n",
       "  </thead>\n",
       "  <tbody>\n",
       "    <tr>\n",
       "      <th>0</th>\n",
       "      <td>https://www.garmin.com/en-US/p/886725</td>\n",
       "      <td>886725</td>\n",
       "      <td>Forerunner 965</td>\n",
       "      <td>Sports &amp; Fitness</td>\n",
       "      <td>Running</td>\n",
       "      <td>010-02809-00</td>\n",
       "      <td>https://support.garmin.com/en-US/?partNumber=0...</td>\n",
       "    </tr>\n",
       "    <tr>\n",
       "      <th>1</th>\n",
       "      <td>https://www.garmin.com/en-US/p/714945</td>\n",
       "      <td>714945</td>\n",
       "      <td>Bounce</td>\n",
       "      <td>Sports &amp; Fitness</td>\n",
       "      <td>Just for Kids</td>\n",
       "      <td>010-02448-02</td>\n",
       "      <td>https://support.garmin.com/en-US/?partNumber=0...</td>\n",
       "    </tr>\n",
       "    <tr>\n",
       "      <th>2</th>\n",
       "      <td>https://www.garmin.com/en-US/p/783467</td>\n",
       "      <td>783467</td>\n",
       "      <td>MARQ Adventurer (Gen 2)</td>\n",
       "      <td>Sports &amp; Fitness</td>\n",
       "      <td>Luxury Smartwatches</td>\n",
       "      <td>010-02648-30</td>\n",
       "      <td>https://support.garmin.com/en-US/?partNumber=0...</td>\n",
       "    </tr>\n",
       "    <tr>\n",
       "      <th>3</th>\n",
       "      <td>https://www.garmin.com/en-US/p/819761</td>\n",
       "      <td>819761</td>\n",
       "      <td>Instinct Crossover - Standard Edition</td>\n",
       "      <td>Outdoor Recreation</td>\n",
       "      <td>Adventure Watches</td>\n",
       "      <td>010-02730-13</td>\n",
       "      <td>https://support.garmin.com/en-US/?partNumber=0...</td>\n",
       "    </tr>\n",
       "    <tr>\n",
       "      <th>4</th>\n",
       "      <td>https://www.garmin.com/en-US/p/785411</td>\n",
       "      <td>785411</td>\n",
       "      <td>vivomove Trend</td>\n",
       "      <td>Sports &amp; Fitness</td>\n",
       "      <td>Fitness Tracking</td>\n",
       "      <td>010-02665-02</td>\n",
       "      <td>https://support.garmin.com/en-US/?partNumber=0...</td>\n",
       "    </tr>\n",
       "  </tbody>\n",
       "</table>\n",
       "</div>"
      ],
      "text/plain": [
       "                             product_url product_id  \\\n",
       "0  https://www.garmin.com/en-US/p/886725     886725   \n",
       "1  https://www.garmin.com/en-US/p/714945     714945   \n",
       "2  https://www.garmin.com/en-US/p/783467     783467   \n",
       "3  https://www.garmin.com/en-US/p/819761     819761   \n",
       "4  https://www.garmin.com/en-US/p/785411     785411   \n",
       "\n",
       "                            product_name    product_category  \\\n",
       "0                         Forerunner 965    Sports & Fitness   \n",
       "1                                 Bounce    Sports & Fitness   \n",
       "2                MARQ Adventurer (Gen 2)    Sports & Fitness   \n",
       "3  Instinct Crossover - Standard Edition  Outdoor Recreation   \n",
       "4                         vivomove Trend    Sports & Fitness   \n",
       "\n",
       "   product_subcategory   part_number  \\\n",
       "0              Running  010-02809-00   \n",
       "1        Just for Kids  010-02448-02   \n",
       "2  Luxury Smartwatches  010-02648-30   \n",
       "3    Adventure Watches  010-02730-13   \n",
       "4     Fitness Tracking  010-02665-02   \n",
       "\n",
       "                                  product_manual_url  \n",
       "0  https://support.garmin.com/en-US/?partNumber=0...  \n",
       "1  https://support.garmin.com/en-US/?partNumber=0...  \n",
       "2  https://support.garmin.com/en-US/?partNumber=0...  \n",
       "3  https://support.garmin.com/en-US/?partNumber=0...  \n",
       "4  https://support.garmin.com/en-US/?partNumber=0...  "
      ]
     },
     "execution_count": 177,
     "metadata": {},
     "output_type": "execute_result"
    }
   ],
   "source": [
    "df.head()"
   ]
  },
  {
   "cell_type": "code",
   "execution_count": 232,
   "metadata": {},
   "outputs": [],
   "source": [
    "df['file_name'] = df['product_name'].str.replace(' ', '_') + \"_OM_EN-US.pdf\"\n"
   ]
  },
  {
   "cell_type": "code",
   "execution_count": 233,
   "metadata": {},
   "outputs": [
    {
     "data": {
      "text/html": [
       "<div>\n",
       "<style scoped>\n",
       "    .dataframe tbody tr th:only-of-type {\n",
       "        vertical-align: middle;\n",
       "    }\n",
       "\n",
       "    .dataframe tbody tr th {\n",
       "        vertical-align: top;\n",
       "    }\n",
       "\n",
       "    .dataframe thead th {\n",
       "        text-align: right;\n",
       "    }\n",
       "</style>\n",
       "<table border=\"1\" class=\"dataframe\">\n",
       "  <thead>\n",
       "    <tr style=\"text-align: right;\">\n",
       "      <th></th>\n",
       "      <th>product_url</th>\n",
       "      <th>product_id</th>\n",
       "      <th>product_name</th>\n",
       "      <th>product_category</th>\n",
       "      <th>product_subcategory</th>\n",
       "      <th>part_number</th>\n",
       "      <th>product_manual_url</th>\n",
       "      <th>file_name</th>\n",
       "    </tr>\n",
       "  </thead>\n",
       "  <tbody>\n",
       "    <tr>\n",
       "      <th>0</th>\n",
       "      <td>https://www.garmin.com/en-US/p/886725</td>\n",
       "      <td>886725</td>\n",
       "      <td>Forerunner 965</td>\n",
       "      <td>Sports &amp; Fitness</td>\n",
       "      <td>Running</td>\n",
       "      <td>010-02809-00</td>\n",
       "      <td>https://support.garmin.com/en-US/?partNumber=0...</td>\n",
       "      <td>Forerunner_965_OM_EN-US.pdf</td>\n",
       "    </tr>\n",
       "    <tr>\n",
       "      <th>1</th>\n",
       "      <td>https://www.garmin.com/en-US/p/714945</td>\n",
       "      <td>714945</td>\n",
       "      <td>Bounce</td>\n",
       "      <td>Sports &amp; Fitness</td>\n",
       "      <td>Just for Kids</td>\n",
       "      <td>010-02448-02</td>\n",
       "      <td>https://support.garmin.com/en-US/?partNumber=0...</td>\n",
       "      <td>Bounce_OM_EN-US.pdf</td>\n",
       "    </tr>\n",
       "    <tr>\n",
       "      <th>2</th>\n",
       "      <td>https://www.garmin.com/en-US/p/783467</td>\n",
       "      <td>783467</td>\n",
       "      <td>MARQ Adventurer (Gen 2)</td>\n",
       "      <td>Sports &amp; Fitness</td>\n",
       "      <td>Luxury Smartwatches</td>\n",
       "      <td>010-02648-30</td>\n",
       "      <td>https://support.garmin.com/en-US/?partNumber=0...</td>\n",
       "      <td>MARQ_Adventurer_(Gen_2)_OM_EN-US.pdf</td>\n",
       "    </tr>\n",
       "    <tr>\n",
       "      <th>3</th>\n",
       "      <td>https://www.garmin.com/en-US/p/819761</td>\n",
       "      <td>819761</td>\n",
       "      <td>Instinct Crossover - Standard Edition</td>\n",
       "      <td>Outdoor Recreation</td>\n",
       "      <td>Adventure Watches</td>\n",
       "      <td>010-02730-13</td>\n",
       "      <td>https://support.garmin.com/en-US/?partNumber=0...</td>\n",
       "      <td>Instinct_Crossover_-_Standard_Edition_OM_EN-US...</td>\n",
       "    </tr>\n",
       "    <tr>\n",
       "      <th>4</th>\n",
       "      <td>https://www.garmin.com/en-US/p/785411</td>\n",
       "      <td>785411</td>\n",
       "      <td>vivomove Trend</td>\n",
       "      <td>Sports &amp; Fitness</td>\n",
       "      <td>Fitness Tracking</td>\n",
       "      <td>010-02665-02</td>\n",
       "      <td>https://support.garmin.com/en-US/?partNumber=0...</td>\n",
       "      <td>vivomove_Trend_OM_EN-US.pdf</td>\n",
       "    </tr>\n",
       "  </tbody>\n",
       "</table>\n",
       "</div>"
      ],
      "text/plain": [
       "                             product_url product_id  \\\n",
       "0  https://www.garmin.com/en-US/p/886725     886725   \n",
       "1  https://www.garmin.com/en-US/p/714945     714945   \n",
       "2  https://www.garmin.com/en-US/p/783467     783467   \n",
       "3  https://www.garmin.com/en-US/p/819761     819761   \n",
       "4  https://www.garmin.com/en-US/p/785411     785411   \n",
       "\n",
       "                            product_name    product_category  \\\n",
       "0                         Forerunner 965    Sports & Fitness   \n",
       "1                                 Bounce    Sports & Fitness   \n",
       "2                MARQ Adventurer (Gen 2)    Sports & Fitness   \n",
       "3  Instinct Crossover - Standard Edition  Outdoor Recreation   \n",
       "4                         vivomove Trend    Sports & Fitness   \n",
       "\n",
       "   product_subcategory   part_number  \\\n",
       "0              Running  010-02809-00   \n",
       "1        Just for Kids  010-02448-02   \n",
       "2  Luxury Smartwatches  010-02648-30   \n",
       "3    Adventure Watches  010-02730-13   \n",
       "4     Fitness Tracking  010-02665-02   \n",
       "\n",
       "                                  product_manual_url  \\\n",
       "0  https://support.garmin.com/en-US/?partNumber=0...   \n",
       "1  https://support.garmin.com/en-US/?partNumber=0...   \n",
       "2  https://support.garmin.com/en-US/?partNumber=0...   \n",
       "3  https://support.garmin.com/en-US/?partNumber=0...   \n",
       "4  https://support.garmin.com/en-US/?partNumber=0...   \n",
       "\n",
       "                                           file_name  \n",
       "0                        Forerunner_965_OM_EN-US.pdf  \n",
       "1                                Bounce_OM_EN-US.pdf  \n",
       "2               MARQ_Adventurer_(Gen_2)_OM_EN-US.pdf  \n",
       "3  Instinct_Crossover_-_Standard_Edition_OM_EN-US...  \n",
       "4                        vivomove_Trend_OM_EN-US.pdf  "
      ]
     },
     "execution_count": 233,
     "metadata": {},
     "output_type": "execute_result"
    }
   ],
   "source": [
    "df.head()"
   ]
  },
  {
   "cell_type": "code",
   "execution_count": 234,
   "metadata": {},
   "outputs": [],
   "source": [
    "df.to_csv('current_wearables.csv')"
   ]
  },
  {
   "cell_type": "code",
   "execution_count": null,
   "metadata": {},
   "outputs": [],
   "source": []
  }
 ],
 "metadata": {
  "kernelspec": {
   "display_name": "venv",
   "language": "python",
   "name": "python3"
  },
  "language_info": {
   "codemirror_mode": {
    "name": "ipython",
    "version": 3
   },
   "file_extension": ".py",
   "mimetype": "text/x-python",
   "name": "python",
   "nbconvert_exporter": "python",
   "pygments_lexer": "ipython3",
   "version": "3.11.5"
  },
  "orig_nbformat": 4
 },
 "nbformat": 4,
 "nbformat_minor": 2
}
